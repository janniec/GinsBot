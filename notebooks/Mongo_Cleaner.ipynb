{
 "cells": [
  {
   "cell_type": "markdown",
   "metadata": {},
   "source": [
    "# Imports"
   ]
  },
  {
   "cell_type": "code",
   "execution_count": 1,
   "metadata": {
    "collapsed": true
   },
   "outputs": [],
   "source": [
    "import pandas as pd\n",
    "import numpy as np\n",
    "import pickle\n",
    "\n",
    "import pymongo"
   ]
  },
  {
   "cell_type": "markdown",
   "metadata": {},
   "source": [
    "# Convert Mongo Collection into Dataframe"
   ]
  },
  {
   "cell_type": "code",
   "execution_count": 11,
   "metadata": {
    "collapsed": false
   },
   "outputs": [],
   "source": [
    "# turns mongo collection to dataframe\n",
    "def getmongo(judge): # 'ginsburg'\n",
    "    client = pymongo.MongoClient()\n",
    "    db = client.supremes\n",
    "    data = pd.DataFrame(list(db[judge].find()))\n",
    "    \n",
    "    data = data.dropna()\n",
    "    data['text'] = data['text'].apply(lambda x: np.NaN if len(x)==0 else x)\n",
    "    data = data.dropna()\n",
    "    \n",
    "    data['text'] = data['text'].map(lambda x: str(x).encode('ascii', 'ignore'))\n",
    "    data['text'] = data['text'].map(lambda x: str(x)\n",
    "                                              .replace('\\\\', '').replace(\"\\'\", \"\")\n",
    "                                              .replace(\"b[\", \"\").replace('b\" ', '')\n",
    "                                              .replace('\"\"', '\"').replace('b ', ''))\n",
    "    return data"
   ]
  },
  {
   "cell_type": "code",
   "execution_count": 12,
   "metadata": {
    "collapsed": false
   },
   "outputs": [],
   "source": [
    "ginsbot = getmongo('ginsburg')"
   ]
  },
  {
   "cell_type": "code",
   "execution_count": 75,
   "metadata": {
    "collapsed": false
   },
   "outputs": [],
   "source": [
    "scaliac = getmongo('scalia')"
   ]
  },
  {
   "cell_type": "markdown",
   "metadata": {},
   "source": [
    "# Merge Dataframe with 'Issues' CSV"
   ]
  },
  {
   "cell_type": "code",
   "execution_count": 19,
   "metadata": {
    "collapsed": true
   },
   "outputs": [],
   "source": [
    "# clean & merge dataframe\n",
    "def merge_on_cite(dataframe):\n",
    "    usCite = []\n",
    "    for citation in dataframe['cite']:\n",
    "        usCite.append(citation.split())\n",
    "    for lists in usCite:\n",
    "        if len(lists) == 5:\n",
    "            del lists[-2:]\n",
    "        elif len(lists ) == 4:\n",
    "            del lists[-1:]\n",
    "        elif len(lists) == 1:\n",
    "            del lists[-1:]\n",
    "    usCite = [' '.join(x) for x in usCite]\n",
    "    dataframe['usCite'] = usCite\n",
    "    \n",
    "    df = pd.read_csv('SCDB_2016_01_justiceCentered_Vote.csv', encoding='ISO-8859-1')\n",
    "    scdb = pd.concat([df['usCite'], df['issue'], df['issueArea']],\n",
    "                     axis=1).drop_duplicates()\n",
    "    big = dataframe.merge(scdb, how='left')\n",
    "    return big\n"
   ]
  },
  {
   "cell_type": "code",
   "execution_count": 20,
   "metadata": {
    "collapsed": true
   },
   "outputs": [],
   "source": [
    "biggins = merge_on_cite(ginsbot)"
   ]
  },
  {
   "cell_type": "code",
   "execution_count": 80,
   "metadata": {
    "collapsed": false
   },
   "outputs": [],
   "source": [
    "bigscali = merge_on_cite(scaliac)"
   ]
  },
  {
   "cell_type": "code",
   "execution_count": null,
   "metadata": {
    "collapsed": true
   },
   "outputs": [],
   "source": [
    "# pickle.dump(biggins, open(\"biggins.p\", \"wb\"))\n",
    "# pickle.dump(bigscali, open(\"bigscali.p\", \"wb\"))"
   ]
  },
  {
   "cell_type": "markdown",
   "metadata": {},
   "source": [
    "# Explore Issues\n",
    "Issue Areas descriptions: http://supremecourtdatabase.org/documentation.php?var=issueArea   \n",
    "Issues descriptions: http://supremecourtdatabase.org/documentation.php?var=issue"
   ]
  },
  {
   "cell_type": "code",
   "execution_count": 2,
   "metadata": {
    "collapsed": true
   },
   "outputs": [],
   "source": [
    "biggins = pickle.load(open(\"biggins.p\", \"rb\"))\n",
    "# bigscali = pickle.load(open(\"bigscali.p\", \"rb\"))"
   ]
  },
  {
   "cell_type": "code",
   "execution_count": 85,
   "metadata": {
    "collapsed": false
   },
   "outputs": [
    {
     "data": {
      "text/plain": [
       "1.0     66\n",
       "8.0     32\n",
       "2.0     30\n",
       "9.0     28\n",
       "3.0     20\n",
       "4.0     11\n",
       "10.0    11\n",
       "12.0     8\n",
       "5.0      6\n",
       "6.0      3\n",
       "7.0      2\n",
       "11.0     2\n",
       "13.0     1\n",
       "Name: issueArea, dtype: int64"
      ]
     },
     "execution_count": 85,
     "metadata": {},
     "output_type": "execute_result"
    }
   ],
   "source": [
    "bigscali['issueArea'].value_counts()"
   ]
  },
  {
   "cell_type": "code",
   "execution_count": 3,
   "metadata": {
    "collapsed": false
   },
   "outputs": [
    {
     "data": {
      "text/plain": [
       "1.0     42\n",
       "8.0     34\n",
       "2.0     27\n",
       "9.0     24\n",
       "10.0    10\n",
       "3.0      8\n",
       "4.0      7\n",
       "5.0      6\n",
       "6.0      4\n",
       "12.0     3\n",
       "7.0      2\n",
       "Name: issueArea, dtype: int64"
      ]
     },
     "execution_count": 3,
     "metadata": {},
     "output_type": "execute_result"
    }
   ],
   "source": [
    "biggins['issueArea'].value_counts()"
   ]
  },
  {
   "cell_type": "markdown",
   "metadata": {},
   "source": [
    "## Tax"
   ]
  },
  {
   "cell_type": "code",
   "execution_count": 3,
   "metadata": {
    "collapsed": false
   },
   "outputs": [
    {
     "data": {
      "text/plain": [
       "120010.0    3\n",
       "Name: issue, dtype: int64"
      ]
     },
     "execution_count": 3,
     "metadata": {},
     "output_type": "execute_result"
    }
   ],
   "source": [
    "biggins.loc[biggins['issueArea'] == 12.0]['issue'].value_counts() "
   ]
  },
  {
   "cell_type": "markdown",
   "metadata": {},
   "source": [
    "## Affirmative Action"
   ]
  },
  {
   "cell_type": "code",
   "execution_count": 86,
   "metadata": {
    "collapsed": false
   },
   "outputs": [
    {
     "data": {
      "text/plain": [
       "20400.0    5\n",
       "20070.0    3\n",
       "20090.0    3\n",
       "20040.0    3\n",
       "20130.0    2\n",
       "20030.0    2\n",
       "20050.0    2\n",
       "20210.0    2\n",
       "20190.0    1\n",
       "20110.0    1\n",
       "20170.0    1\n",
       "20020.0    1\n",
       "20140.0    1\n",
       "20060.0    1\n",
       "20200.0    1\n",
       "20160.0    1\n",
       "Name: issue, dtype: int64"
      ]
     },
     "execution_count": 86,
     "metadata": {},
     "output_type": "execute_result"
    }
   ],
   "source": [
    "bigscali.loc[bigscali['issueArea'] == 2.0]['issue'].value_counts() "
   ]
  },
  {
   "cell_type": "code",
   "execution_count": 25,
   "metadata": {
    "collapsed": false
   },
   "outputs": [
    {
     "data": {
      "text/plain": [
       "20160.0    5\n",
       "20070.0    3\n",
       "20140.0    3\n",
       "20210.0    3\n",
       "20010.0    2\n",
       "20150.0    2\n",
       "20130.0    2\n",
       "20090.0    1\n",
       "20020.0    1\n",
       "20050.0    1\n",
       "20200.0    1\n",
       "20060.0    1\n",
       "20040.0    1\n",
       "20320.0    1\n",
       "Name: issue, dtype: int64"
      ]
     },
     "execution_count": 25,
     "metadata": {},
     "output_type": "execute_result"
    }
   ],
   "source": [
    "biggins.loc[biggins['issueArea'] == 2.0]['issue'].value_counts() "
   ]
  },
  {
   "cell_type": "markdown",
   "metadata": {},
   "source": [
    "# Filter Issues"
   ]
  },
  {
   "cell_type": "code",
   "execution_count": 3,
   "metadata": {
    "collapsed": false
   },
   "outputs": [],
   "source": [
    "def filter_issue(dataframe, column_name, issue_list):\n",
    "    data = dataframe[dataframe[column_name].isin(issue_list)]\n",
    "    return data"
   ]
  },
  {
   "cell_type": "code",
   "execution_count": 10,
   "metadata": {
    "collapsed": false
   },
   "outputs": [],
   "source": [
    "value_list = [20070, 20050, 20040]\n",
    "scaliaff = filter_issue(bigscali, 'issue', value_list)"
   ]
  },
  {
   "cell_type": "code",
   "execution_count": 6,
   "metadata": {
    "collapsed": true
   },
   "outputs": [],
   "source": [
    "value_list = [20040, 20070, 20050]\n",
    "ginsaff = filter_issue(biggins, 'issue', value_list)"
   ]
  },
  {
   "cell_type": "markdown",
   "metadata": {
    "collapsed": true
   },
   "source": [
    "# Dataframe --> Txt File"
   ]
  },
  {
   "cell_type": "code",
   "execution_count": 14,
   "metadata": {
    "collapsed": true
   },
   "outputs": [],
   "source": [
    "def textfile(dataframe, filename):\n",
    "    dataframe['text'].to_csv('%s.txt' % filename, header=False, \n",
    "                             index=False, sep=' ', mode ='w')"
   ]
  },
  {
   "cell_type": "code",
   "execution_count": 15,
   "metadata": {
    "collapsed": false
   },
   "outputs": [],
   "source": [
    "textfile(scaliaff, 'scaliaff')"
   ]
  },
  {
   "cell_type": "code",
   "execution_count": 16,
   "metadata": {
    "collapsed": false
   },
   "outputs": [],
   "source": [
    "textfile(ginstax, 'ginstax')"
   ]
  }
 ],
 "metadata": {
  "kernelspec": {
   "display_name": "Python 3",
   "language": "python",
   "name": "python3"
  },
  "language_info": {
   "codemirror_mode": {
    "name": "ipython",
    "version": 3
   },
   "file_extension": ".py",
   "mimetype": "text/x-python",
   "name": "python",
   "nbconvert_exporter": "python",
   "pygments_lexer": "ipython3",
   "version": "3.5.2+"
  },
  "toc": {
   "colors": {
    "hover_highlight": "#DAA520",
    "running_highlight": "#FF0000",
    "selected_highlight": "#FFD700"
   },
   "moveMenuLeft": true,
   "nav_menu": {
    "height": "12px",
    "width": "252px"
   },
   "navigate_menu": true,
   "number_sections": true,
   "sideBar": true,
   "threshold": 4,
   "toc_cell": false,
   "toc_section_display": "block",
   "toc_window_display": false,
   "widenNotebook": false
  }
 },
 "nbformat": 4,
 "nbformat_minor": 2
}
