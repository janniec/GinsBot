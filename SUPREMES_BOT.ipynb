{
 "cells": [
  {
   "cell_type": "markdown",
   "metadata": {},
   "source": [
    "To run this notebook, using a GPU is highly recommended."
   ]
  },
  {
   "cell_type": "markdown",
   "metadata": {
    "deletable": true,
    "editable": true
   },
   "source": [
    "# Imports"
   ]
  },
  {
   "cell_type": "code",
   "execution_count": 1,
   "metadata": {
    "collapsed": false,
    "deletable": true,
    "editable": true
   },
   "outputs": [
    {
     "name": "stderr",
     "output_type": "stream",
     "text": [
      "Using TensorFlow backend.\n"
     ]
    }
   ],
   "source": [
    "import collections\n",
    "import numpy as np\n",
    "import codecs\n",
    "import random\n",
    "import sys\n",
    "import os\n",
    "import re\n",
    "\n",
    "from keras.models import Sequential\n",
    "from keras.models import Model\n",
    "from keras.models import load_model\n",
    "from keras.layers import Dense, Activation, Dropout\n",
    "from keras.layers import LSTM\n",
    "from keras.layers import Dense, Input, Flatten\n",
    "from keras.utils.data_utils import get_file\n",
    "from keras.callbacks import ModelCheckpoint\n",
    "from keras.layers import Embedding\n",
    "from gensim.models import Word2Vec\n",
    "import gensim as gs"
   ]
  },
  {
   "cell_type": "markdown",
   "metadata": {
    "deletable": true,
    "editable": true
   },
   "source": [
    "# Clean Txt File"
   ]
  },
  {
   "cell_type": "code",
   "execution_count": 2,
   "metadata": {
    "collapsed": true,
    "deletable": true,
    "editable": true
   },
   "outputs": [],
   "source": [
    "def clean_text(path):\n",
    "    try: \n",
    "        text = open(path).read().lower()\n",
    "    except UnicodeDecodeError:\n",
    "        text = codecs.open(path, encoding='utf-8').read().lower()\n",
    "    print('corpus length:', len(text))\n",
    "    \n",
    "    # remove numbers\n",
    "    text = re.sub('[0-9]{4}', 'hedgehog', text) # replace years with hedgehog\n",
    "    text = re.sub('\\d+', 'warthog', text) # replace numbers with warthog\n",
    "    text = text.replace('warthogd', 'warthog').replace('warthogth', 'warthog')\\\n",
    "    # remove all punctuation and special characters\n",
    "    text = re.sub(\"[^A-Za-z]\",\" \", text) \n",
    "    # replace dictionary\n",
    "    replacer = {'u s': 'United_States', 's ct': 'Supreme_Court', ' v ': ' versus ', \n",
    "            'ginsburg': 'Ginsburg', 'roberts': 'Roberts', 'kennedy': 'Kennedy',\n",
    "           'thomas': 'Thomas', 'scalia': 'Scalia', 'breyer': 'Breyer', 'alito': 'Alito',\n",
    "           'sotomayor': 'Sotomayor', 'kagan': 'Kagan', 'o conner': 'O\\'Conner',\n",
    "            'souter': 'Souter', 'stevens': 'Stevens', 'rehnquist': 'Rehnquist', \n",
    "            'blackmun': 'Blackmun', 'powell': 'Powell', 'burger': 'Burger', \n",
    "            'marshall': 'Marshall', 'brennan': 'Brennan'\n",
    "           }\n",
    "    for key in replacer.keys():\n",
    "        text = text.replace(key, replacer[key])\n",
    "    \n",
    "    return text"
   ]
  },
  {
   "cell_type": "code",
   "execution_count": 7,
   "metadata": {
    "collapsed": false,
    "deletable": true,
    "editable": true
   },
   "outputs": [
    {
     "name": "stdout",
     "output_type": "stream",
     "text": [
      "corpus length: 186483\n"
     ]
    }
   ],
   "source": [
    "# GRAB TXT DATA\n",
    "text = clean_text(\"ginsaff.txt\")\n",
    "# ginsaff.txt for GinsBot on Affirmative Action\n",
    "# scaliaff.txt for Scalianator on Affirmative Action\n",
    "# ginstax.txt for GinsBot on Federal Tax"
   ]
  },
  {
   "cell_type": "markdown",
   "metadata": {
    "deletable": true,
    "editable": true
   },
   "source": [
    "# Word2Vec Word Embeddings"
   ]
  },
  {
   "cell_type": "code",
   "execution_count": 4,
   "metadata": {
    "collapsed": true,
    "deletable": true,
    "editable": true
   },
   "outputs": [],
   "source": [
    "pretrained = 'GoogleNews-vectors-negative300.bin'\n",
    "pretrained_embeds = gs.models.KeyedVectors.load_word2vec_format(pretrained, binary=True)"
   ]
  },
  {
   "cell_type": "markdown",
   "metadata": {
    "deletable": true,
    "editable": true
   },
   "source": [
    "## Text to Vector Dictionary"
   ]
  },
  {
   "cell_type": "code",
   "execution_count": 5,
   "metadata": {
    "collapsed": true,
    "deletable": true,
    "editable": true
   },
   "outputs": [],
   "source": [
    "def get_embeds(list_text):\n",
    "    words2v= collections.OrderedDict()\n",
    "    for word in list_text:\n",
    "        try:\n",
    "            words2v[word] = pretrained_embeds[word]\n",
    "        except:\n",
    "            pass  \n",
    "    print(\"word_vectors\", type(words2v), \"length:\",len(words2v))\n",
    "    return words2v"
   ]
  },
  {
   "cell_type": "markdown",
   "metadata": {
    "deletable": true,
    "editable": true
   },
   "source": [
    "# Process text"
   ]
  },
  {
   "cell_type": "code",
   "execution_count": null,
   "metadata": {
    "collapsed": true
   },
   "outputs": [],
   "source": [
    "maxlen = 15 # length of a 'sentence'\n",
    "step = 5"
   ]
  },
  {
   "cell_type": "code",
   "execution_count": null,
   "metadata": {
    "collapsed": true
   },
   "outputs": [],
   "source": [
    "def vectorize_xy(text, maxlen, step):\n",
    "    word_vectors = get_embeds(text.split())\n",
    "    \n",
    "    list_words=[]\n",
    "    for word in text.split():\n",
    "        if word in word_vectors.keys():\n",
    "            list_words.append(word)\n",
    "    words = set(list_words)\n",
    "    \n",
    "    print('number of vectorized words in text:', len(list_words))\n",
    "    print('number of unique words left in text:', len(words))\n",
    "    print(\"maxlen:\",maxlen,\"step:\", step)\n",
    "    \n",
    "    sentences = []\n",
    "    next_words = []\n",
    "    sentences2=[]\n",
    "    for i in range(0,len(list_words)-maxlen, step):\n",
    "        sentences2 = ' '.join(list_words[i: i + maxlen])\n",
    "        sentences.append(sentences2)\n",
    "        next_words.append((list_words[i + maxlen]))\n",
    "    \n",
    "    print('length of sentence list:', len(sentences))\n",
    "    print(\"length of next_word list\", len(next_words))\n",
    "    \n",
    "    print('Vectorization...')\n",
    "    X =[]\n",
    "    y =[]\n",
    "    for i, sentence in enumerate(sentences):\n",
    "        sent_of_words=[]\n",
    "        for t, word in enumerate(sentence.split()):\n",
    "            sent_of_words.append(word_vectors[word]) # switch this out with 300x1 vector in word2vec\n",
    "        X.append(sent_of_words)    \n",
    "        y.append(word_vectors[next_words[i]])    \n",
    "    X = np.asarray(X)\n",
    "    y = np.asarray(y)\n",
    "\n",
    "    print('X: ', X.shape)\n",
    "    print('y: ', y.shape)\n",
    "    return X, y"
   ]
  },
  {
   "cell_type": "markdown",
   "metadata": {
    "deletable": true,
    "editable": true
   },
   "source": [
    "# Build Model"
   ]
  },
  {
   "cell_type": "code",
   "execution_count": null,
   "metadata": {
    "collapsed": true
   },
   "outputs": [],
   "source": [
    "def start_model(model_name):\n",
    "    #build the model: 4 stacked LSTM\n",
    "    print('Building model...')\n",
    "\n",
    "    model = Sequential()\n",
    "    model.add(LSTM(300, return_sequences=True, input_shape=(maxlen, 300))) # length of vectors\n",
    "    model.add(Dropout(0.1))\n",
    "    model.add(LSTM(512, return_sequences=True))\n",
    "    model.add(Dropout(0.1))\n",
    "    model.add(LSTM(512, return_sequences=True))\n",
    "    model.add(Dropout(0.1))\n",
    "    model.add(LSTM(200, return_sequences=False))\n",
    "    model.add(Dropout(0.1))\n",
    "    model.add(Dense(300)) # length of vectors\n",
    "    model.add(Activation('softmax'))\n",
    "    model.compile(loss='categorical_crossentropy', optimizer='rmsprop')\n",
    "\n",
    "    model.save(str(model_name))"
   ]
  },
  {
   "cell_type": "code",
   "execution_count": 14,
   "metadata": {
    "collapsed": false,
    "deletable": true,
    "editable": true
   },
   "outputs": [
    {
     "name": "stdout",
     "output_type": "stream",
     "text": [
      "Building model...\n"
     ]
    }
   ],
   "source": [
    "# start_model('gins_affac.h5')"
   ]
  },
  {
   "cell_type": "markdown",
   "metadata": {
    "deletable": true,
    "editable": true
   },
   "source": [
    "# Train Model"
   ]
  },
  {
   "cell_type": "markdown",
   "metadata": {},
   "source": [
    "## Functions"
   ]
  },
  {
   "cell_type": "code",
   "execution_count": 15,
   "metadata": {
    "collapsed": true,
    "deletable": true,
    "editable": true
   },
   "outputs": [],
   "source": [
    "def clean_seed(seed_sentence, maxlen):\n",
    "    seed_sentence = re.sub(\"[^A-Za-z]\",\" \", seed_sentence).lower()\n",
    "    clean_sentence = []\n",
    "    for word in seed_sentence.split():\n",
    "        try:\n",
    "            i = pretrained_embeds[word]\n",
    "#                 if len(i) == 300:\n",
    "            clean_sentence.append(word)    \n",
    "        except:\n",
    "            pass\n",
    "    return clean_sentence[0:maxlen] # returns list "
   ]
  },
  {
   "cell_type": "code",
   "execution_count": 16,
   "metadata": {
    "collapsed": true,
    "deletable": true,
    "editable": true
   },
   "outputs": [],
   "source": [
    "def text_generator(seeds, model, para_length):    \n",
    "    gentext = []\n",
    "    for i in range(para_length): #length of paragraph \n",
    "        x=[] \n",
    "        varrays =[]\n",
    "        for word in seeds:\n",
    "            try: \n",
    "                i = pretrained_embeds[word]\n",
    "                varrays.append(i)\n",
    "            except:\n",
    "                pass\n",
    "        x.append(varrays[0:15])\n",
    "        x=np.asarray(x)\n",
    "    \n",
    "        preds = model.predict(x, verbose=0)[0]\n",
    "\n",
    "        next_word = pretrained_embeds.most_similar(positive=[preds], topn=1)[0][0]\n",
    "#         next_word = get_top_unigram(preds)\n",
    "\n",
    "        del seeds[0]\n",
    "        seeds.append(next_word)\n",
    "        \n",
    "        gentext.append(' ')\n",
    "        gentext.append(next_word)\n",
    "        \n",
    "        sys.stdout.write(' ')\n",
    "        sys.stdout.write(next_word)\n",
    "        sys.stdout.flush()\n",
    "    print()\n",
    "    return gentext"
   ]
  },
  {
   "cell_type": "code",
   "execution_count": 26,
   "metadata": {
    "collapsed": true,
    "deletable": true,
    "editable": true
   },
   "outputs": [],
   "source": [
    "def train_generate(seed_sentence, iterations, epochs):\n",
    "    checkpoint = ModelCheckpoint(\"gins_affac.h5\", monitor='loss', verbose=1, save_best_only=True, mode='min')\n",
    "    callbacks_list = [checkpoint]\n",
    "    loaded_model = load_model(\"gins_affac.h5\")\n",
    "    \n",
    "    for iteration in range(1, iterations+1): \n",
    "        print()\n",
    "        print('-' * 50)\n",
    "        print('Iteration', iteration)\n",
    "        \n",
    "        X, y = vectorize_xy(text, maxlen, step)\n",
    "        \n",
    "        loaded_model.fit(X, y, batch_size=128, nb_epoch= epochs, callbacks=callbacks_list) \n",
    "        \n",
    "        seeds = clean_seed(seed_sentence, maxlen)\n",
    "        print('----- Generating with seed: \"' , seed_sentence , '\"')\n",
    "        print()\n",
    "        \n",
    "        gentext = text_generator(seeds, loaded_model, 200)\n",
    "    \n",
    "        generation = ''.join(gentext)\n",
    "        with open(\"ginsbot_affaction.txt\", \"a\") as myfile:\n",
    "            myfile.write('iteration = ' + str(iteration) + '/' + str(iterations) \n",
    "                         + ' epoch = ' + str(epochs) \n",
    "                         + '\\n' + generation + '\\n' + '\\n' + '\\n')\n",
    "        \n",
    "        del generation\n",
    "        del gentext"
   ]
  },
  {
   "cell_type": "markdown",
   "metadata": {},
   "source": [
    "## Train & Generate"
   ]
  },
  {
   "cell_type": "code",
   "execution_count": 27,
   "metadata": {
    "collapsed": true,
    "deletable": true,
    "editable": true
   },
   "outputs": [],
   "source": [
    "seed_sentence = '''use of race discrimination in university \n",
    "admissions policy is lawful to achieve critical mass \n",
    "student body diversity'''"
   ]
  },
  {
   "cell_type": "code",
   "execution_count": 1,
   "metadata": {
    "collapsed": false,
    "deletable": true,
    "editable": true,
    "scrolled": false
   },
   "outputs": [],
   "source": [
    "train_generate(seed_sentence, 50, 100)"
   ]
  },
  {
   "cell_type": "code",
   "execution_count": null,
   "metadata": {
    "collapsed": true
   },
   "outputs": [],
   "source": []
  },
  {
   "cell_type": "code",
   "execution_count": null,
   "metadata": {
    "collapsed": true
   },
   "outputs": [],
   "source": []
  },
  {
   "cell_type": "code",
   "execution_count": null,
   "metadata": {
    "collapsed": true
   },
   "outputs": [],
   "source": []
  },
  {
   "cell_type": "code",
   "execution_count": null,
   "metadata": {
    "collapsed": true
   },
   "outputs": [],
   "source": []
  },
  {
   "cell_type": "code",
   "execution_count": null,
   "metadata": {
    "collapsed": true
   },
   "outputs": [],
   "source": []
  }
 ],
 "metadata": {
  "kernelspec": {
   "display_name": "Python 3",
   "language": "python",
   "name": "python3"
  },
  "language_info": {
   "codemirror_mode": {
    "name": "ipython",
    "version": 3
   },
   "file_extension": ".py",
   "mimetype": "text/x-python",
   "name": "python",
   "nbconvert_exporter": "python",
   "pygments_lexer": "ipython3",
   "version": "3.5.2+"
  },
  "toc": {
   "colors": {
    "hover_highlight": "#DAA520",
    "running_highlight": "#FF0000",
    "selected_highlight": "#FFD700"
   },
   "moveMenuLeft": true,
   "nav_menu": {
    "height": "161px",
    "width": "252px"
   },
   "navigate_menu": true,
   "number_sections": true,
   "sideBar": true,
   "threshold": 4,
   "toc_cell": false,
   "toc_section_display": "block",
   "toc_window_display": false,
   "widenNotebook": false
  }
 },
 "nbformat": 4,
 "nbformat_minor": 2
}
